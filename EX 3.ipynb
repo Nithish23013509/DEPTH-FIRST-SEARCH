{
 "cells": [
  {
   "cell_type": "code",
   "execution_count": null,
   "id": "089b5773-e732-4943-b7ef-53dfc4dec0cd",
   "metadata": {},
   "outputs": [
    {
     "name": "stdin",
     "output_type": "stream",
     "text": [
      " 7 9\n",
      " A B\n",
      " A C\n",
      " A D\n",
      " B A\n",
      " B C\n",
      " B D\n",
      " C A\n",
      " C B\n"
     ]
    }
   ],
   "source": [
    "from collections import deque, defaultdict\n",
    "\n",
    "def bfs(graph, start, visited, path):\n",
    "    queue = deque()\n",
    "    path.append(start)\n",
    "    queue.append(start)\n",
    "    visited[start] = True\n",
    "    \n",
    "    while len(queue) != 0:\n",
    "        tmpnode = queue.popleft()\n",
    "        for node in graph[tmpnode]:\n",
    "            if not visited[node]:\n",
    "                path.append(node)\n",
    "                queue.append(node)\n",
    "                visited[node] = True\n",
    "    return path\n",
    "\n",
    "graph = defaultdict(list)\n",
    "n, e = map(int, input().split())  \n",
    "for i in range(e):\n",
    "    u, v = input().split()\n",
    "    graph[u].append(v)\n",
    "    graph[v].append(u)\n",
    "\n",
    "start = \"A\"   \n",
    "path = []\n",
    "visited = defaultdict(bool)\n",
    "traversedpath = bfs(graph, start, visited, path)\n",
    "print(traversedpath)\n"
   ]
  },
  {
   "cell_type": "code",
   "execution_count": null,
   "id": "33b1cdda-b60a-4367-a7e6-cbea90474df7",
   "metadata": {},
   "outputs": [],
   "source": []
  }
 ],
 "metadata": {
  "kernelspec": {
   "display_name": "Python 3 (ipykernel)",
   "language": "python",
   "name": "python3"
  },
  "language_info": {
   "codemirror_mode": {
    "name": "ipython",
    "version": 3
   },
   "file_extension": ".py",
   "mimetype": "text/x-python",
   "name": "python",
   "nbconvert_exporter": "python",
   "pygments_lexer": "ipython3",
   "version": "3.11.13"
  }
 },
 "nbformat": 4,
 "nbformat_minor": 5
}
